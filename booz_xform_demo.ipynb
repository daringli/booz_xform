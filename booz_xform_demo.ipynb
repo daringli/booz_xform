{
 "cells": [
  {
   "cell_type": "markdown",
   "metadata": {},
   "source": [
    "Create a `Booz_xform` instance:"
   ]
  },
  {
   "cell_type": "code",
   "execution_count": 1,
   "metadata": {},
   "outputs": [],
   "source": [
    "import booz_xform as bx\n",
    "b = bx.Booz_xform()"
   ]
  },
  {
   "cell_type": "markdown",
   "metadata": {},
   "source": [
    "If desired, we can set the input data directly from python, without a VMEC file:"
   ]
  },
  {
   "cell_type": "code",
   "execution_count": 2,
   "metadata": {},
   "outputs": [],
   "source": [
    "b.rmnc = [[1, 0.1], [1.1, 0.2]]"
   ]
  },
  {
   "cell_type": "markdown",
   "metadata": {},
   "source": [
    "Or, we can load in data from a VMEC `wout_*.nc` file:"
   ]
  },
  {
   "cell_type": "code",
   "execution_count": 3,
   "metadata": {},
   "outputs": [],
   "source": [
    "b.read_wout(\"tests/test_files/wout_li383_1.4m.nc\")"
   ]
  },
  {
   "cell_type": "markdown",
   "metadata": {},
   "source": [
    "We now have access to all the data that was loaded, in the form of numpy arrays:"
   ]
  },
  {
   "cell_type": "code",
   "execution_count": 4,
   "metadata": {},
   "outputs": [
    {
     "data": {
      "text/plain": [
       "array([[ 1.47265784e+00,  1.47064413e+00,  1.46876563e+00, ...,\n",
       "         1.38298775e+00,  1.38106309e+00,  1.37915239e+00],\n",
       "       [ 9.66386163e-02,  9.39656679e-02,  9.12856961e-02, ...,\n",
       "         8.39222860e-04, -1.15483564e-03, -3.14856274e-03],\n",
       "       [ 5.94466624e-03,  5.33733834e-03,  4.72596296e-03, ...,\n",
       "        -3.90319604e-03, -3.99352196e-03, -4.08841769e-03],\n",
       "       ...,\n",
       "       [ 3.82105109e-07,  1.56748891e-06,  4.30513328e-06, ...,\n",
       "        -4.47161579e-07, -4.73285221e-07, -2.08934612e-07],\n",
       "       [-3.72242588e-07, -2.86176654e-06, -6.26756380e-06, ...,\n",
       "        -7.09993720e-06, -4.03495548e-06, -1.29908981e-06],\n",
       "       [ 7.68276658e-08, -7.96425120e-08,  7.05128633e-08, ...,\n",
       "        -9.91504287e-06, -6.37379506e-06, -2.21053463e-06]])"
      ]
     },
     "execution_count": 4,
     "metadata": {},
     "output_type": "execute_result"
    }
   ],
   "source": [
    "b.rmnc"
   ]
  },
  {
   "cell_type": "markdown",
   "metadata": {},
   "source": [
    "We can set the desired Fourier resolution:"
   ]
  },
  {
   "cell_type": "code",
   "execution_count": 5,
   "metadata": {},
   "outputs": [],
   "source": [
    "b.mboz = 54\n",
    "b.nboz = 32"
   ]
  },
  {
   "cell_type": "markdown",
   "metadata": {},
   "source": [
    "The transformation to Boozer coordinates will be run on all flux surfaces by default. If desired, we can select only specific surfaces:"
   ]
  },
  {
   "cell_type": "code",
   "execution_count": 6,
   "metadata": {},
   "outputs": [
    {
     "name": "stdout",
     "output_type": "stream",
     "text": [
      "Default surfaces: [ 0  1  2  3  4  5  6  7  8  9 10 11 12 13 14 15 16 17 18 19 20 21 22 23\n",
      " 24 25 26 27 28 29 30 31 32 33 34 35 36 37 38 39 40 41 42 43 44 45 46 47]\n",
      "Selected surfaces: [ 0  1  2 23 47]\n"
     ]
    }
   ],
   "source": [
    "print(\"Default surfaces:\", b.compute_surfs)\n",
    "b.compute_surfs = [0, 1, 2, 23, 47]\n",
    "print(\"Selected surfaces:\", b.compute_surfs)"
   ]
  },
  {
   "cell_type": "markdown",
   "metadata": {},
   "source": [
    "Now, run the calculation."
   ]
  },
  {
   "cell_type": "code",
   "execution_count": 7,
   "metadata": {},
   "outputs": [],
   "source": [
    "b.run()"
   ]
  },
  {
   "cell_type": "markdown",
   "metadata": {},
   "source": [
    "All of the output data are now available as numpy arrays:"
   ]
  },
  {
   "cell_type": "code",
   "execution_count": 8,
   "metadata": {},
   "outputs": [
    {
     "data": {
      "text/plain": [
       "array([[ 1.54860454e+00,  1.54995067e+00,  1.55126119e+00,\n",
       "         1.60164563e+00,  1.68603124e+00],\n",
       "       [ 4.76751287e-04,  2.52763362e-04,  1.02340154e-04,\n",
       "        -1.06088199e-03,  3.35055745e-03],\n",
       "       [ 4.55391623e-04,  2.91930336e-04,  1.55133171e-04,\n",
       "        -1.24795854e-03, -1.46200165e-03],\n",
       "       ...,\n",
       "       [-4.75912238e-16,  1.34267428e-16,  1.03266022e-16,\n",
       "         1.96786082e-16,  2.22042269e-12],\n",
       "       [-3.33107565e-16, -1.97079156e-16, -4.52095365e-17,\n",
       "        -2.00845700e-16,  8.16904959e-13],\n",
       "       [-7.15099095e-17, -1.25428639e-17,  1.70490792e-16,\n",
       "         1.08711597e-16,  3.86347018e-13]])"
      ]
     },
     "execution_count": 8,
     "metadata": {},
     "output_type": "execute_result"
    }
   ],
   "source": [
    "b.bmnc_b"
   ]
  },
  {
   "cell_type": "markdown",
   "metadata": {},
   "source": [
    "The python module includes routines for plotting the results:"
   ]
  },
  {
   "cell_type": "code",
   "execution_count": 9,
   "metadata": {},
   "outputs": [
    {
     "data": {
      "image/png": "[encoded data removed]",
      "text/plain": [
       "<Figure size 432x288 with 2 Axes>"
      ]
     },
     "metadata": {
      "needs_background": "light"
     },
     "output_type": "display_data"
    }
   ],
   "source": [
    "bx.surfplot(b, js=4)"
   ]
  },
  {
   "cell_type": "markdown",
   "metadata": {},
   "source": [
    "If desired, results can be saved to a `boozmn_*.nc` NetCDF file:"
   ]
  },
  {
   "cell_type": "code",
   "execution_count": 10,
   "metadata": {},
   "outputs": [],
   "source": [
    "b.write_boozmn(\"boozmn_li383_1.4m.nc\")"
   ]
  },
  {
   "cell_type": "markdown",
   "metadata": {},
   "source": [
    "Results from this new `booz_xform` module are identical to the old fortran77 version to machine precision:"
   ]
  },
  {
   "cell_type": "code",
   "execution_count": 11,
   "metadata": {},
   "outputs": [
    {
     "name": "stdout",
     "output_type": "stream",
     "text": [
      "Difference between fortran and C++/python: 1.021405182655144e-14\n"
     ]
    }
   ],
   "source": [
    "import numpy as np\n",
    "from scipy.io import netcdf\n",
    "# Load reference data generated by the F77 version\n",
    "f = netcdf.netcdf_file(\"tests/test_files/boozmn_li383_1.4m.nc\", mmap=False)\n",
    "bmnc_b_old = f.variables[\"bmnc_b\"][()].transpose()\n",
    "print(\"Difference between fortran and C++/python:\", np.max(np.abs(bmnc_b_old - b.bmnc_b)))\n",
    "f.close()"
   ]
  }
 ],
 "metadata": {
  "kernelspec": {
   "display_name": "Python 3",
   "language": "python",
   "name": "python3"
  },
  "language_info": {
   "codemirror_mode": {
    "name": "ipython",
    "version": 3
   },
   "file_extension": ".py",
   "mimetype": "text/x-python",
   "name": "python",
   "nbconvert_exporter": "python",
   "pygments_lexer": "ipython3",
   "version": "3.8.5"
  }
 },
 "nbformat": 4,
 "nbformat_minor": 4
}
